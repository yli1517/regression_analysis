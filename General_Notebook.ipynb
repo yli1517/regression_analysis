{
 "cells": [
  {
   "cell_type": "markdown",
   "metadata": {},
   "source": [
    "# More Support is Needed for Women-Led and Minority-Led Businesses"
   ]
  },
  {
   "cell_type": "markdown",
   "metadata": {},
   "source": [
    "<img src=\"women_in_business.png\">"
   ]
  },
  {
   "cell_type": "markdown",
   "metadata": {},
   "source": [
    "## Excutive Summary"
   ]
  },
  {
   "cell_type": "markdown",
   "metadata": {},
   "source": [
    "The purpose of this analysis is to figure out whether women-led and minority-led entrepreneurs' need more support for their business. The dataset we used for analysis came from the Annual Survey of Entrepreneurs (ASE) of US Census. The variables that we focused on included two dependent variables: annual payroll and number of paid employees; and two independent variables gender and race.\n",
    "\n",
    "Our findings indicated that more support are needed for women-led and minority-led businesses and there are significant differences between the annual pay and number of paid-employees hired by women-led and minority-led businesses.\n",
    "\n",
    "However, these results might be largely limited due to the following reasons: 1) we only performed one-way ANOVA by using one dependent variable and one independent variable to test the group mean differences; 2) data is only limited to the year of 2014; 3) the inclusion criterion for the dataset only limited to top 50 metropolitan areas and nonfarm business, so that business in suburban or rural areas and farm related business are not included. Therefore the generalization of these finds to other populations or areas is not applicable. "
   ]
  },
  {
   "cell_type": "markdown",
   "metadata": {},
   "source": [
    "# Introduction"
   ]
  },
  {
   "cell_type": "markdown",
   "metadata": {},
   "source": [
    "The 2014 ASE asked questions from the five-year Survey of Business Owners, which provides the only comprehensive, regularly collected source of information on selected economic and demographic characteristics for businesses and business owners by gender, ethnicity, race, and veteran status, and introduced a new module of questions covering innovation and research and development."
   ]
  },
  {
   "cell_type": "markdown",
   "metadata": {},
   "source": [
    "# Goal"
   ]
  },
  {
   "cell_type": "markdown",
   "metadata": {},
   "source": [
    "The goal of our study is to figure out whether if women-led and minority-led businesses need more support."
   ]
  },
  {
   "cell_type": "markdown",
   "metadata": {},
   "source": [
    "# Dataset"
   ]
  },
  {
   "cell_type": "markdown",
   "metadata": {},
   "source": [
    "The Annual Survey of Entrepreneurs (ASE) provides information on selected economic and demographic characteristics for businesses and business owners by gender, ethnicity, race, and veteran status. The ASE include three dataset: company summary (CS), characteristics of businesses, and characteristics of business owners. The dataset we used for this project is the CS of ASE. "
   ]
  },
  {
   "cell_type": "markdown",
   "metadata": {},
   "source": [
    "# Data Cleaning"
   ]
  },
  {
   "cell_type": "markdown",
   "metadata": {},
   "source": [
    "The CS data are compiled by combining data collected on businesses and business owners in the ASE with data collected on the main economic census and administrative records. We imported all variables from the CS."
   ]
  },
  {
   "cell_type": "markdown",
   "metadata": {},
   "source": [
    "# Data Analysis"
   ]
  },
  {
   "cell_type": "markdown",
   "metadata": {},
   "source": [
    "Business ownership is defined as having 51 percent or more of the stock or equity in the business and is categorized by: \n",
    "1): Gender: Male; female; or equally male/female\n",
    "2): Race: Minority; equally minority/nonminority; nonminority.\n",
    "We subsetted the data by gender and race of business owners. "
   ]
  },
  {
   "cell_type": "markdown",
   "metadata": {},
   "source": [
    "### Hypotheses Testing:"
   ]
  },
  {
   "cell_type": "markdown",
   "metadata": {},
   "source": [
    "H1: Employees who work for entrepreneurs get paid the same regardless of entrepreneur gender. "
   ]
  },
  {
   "cell_type": "markdown",
   "metadata": {},
   "source": [
    "H2: Entrepreneurs, regardless of their gender, hire the same number of paid employees."
   ]
  },
  {
   "cell_type": "markdown",
   "metadata": {},
   "source": [
    "H3: Employees who work for entrepreneurs get paid the same regardless of entrepreneur ethnicity.\n"
   ]
  },
  {
   "cell_type": "markdown",
   "metadata": {},
   "source": [
    "H4: Entrepreneurs, regardless of their ethnicity, hire the same number of paid employees"
   ]
  },
  {
   "cell_type": "markdown",
   "metadata": {},
   "source": [
    "By testing our hypotheses, we rejected all of our null hypothses. Employees get paid and were hired differently with regard to entrepreneur sociostatus of gender and race."
   ]
  },
  {
   "cell_type": "markdown",
   "metadata": {},
   "source": [
    "# Results"
   ]
  },
  {
   "cell_type": "markdown",
   "metadata": {},
   "source": [
    "By further digging into our data, we found one reason that could possibly cause all the significant differences the annual payout and number of paid employees across entrepreneurs' gender and race, that was male-led businesses were more likely to be larger scale businesses, thus hired more employees which arose the total annual payout compared with women-led business.   "
   ]
  },
  {
   "cell_type": "markdown",
   "metadata": {},
   "source": [
    "<img src=\"boxplot.png\">"
   ]
  },
  {
   "cell_type": "markdown",
   "metadata": {},
   "source": [
    "# Conclusion:"
   ]
  },
  {
   "cell_type": "markdown",
   "metadata": {},
   "source": [
    "According to our results, we could draw a conclusion that more support is needed for woman-led business."
   ]
  },
  {
   "cell_type": "markdown",
   "metadata": {},
   "source": [
    "# Recommendations and Limitations:"
   ]
  },
  {
   "cell_type": "markdown",
   "metadata": {},
   "source": [
    "Recommendations:\n",
    "1. Become a mentor for female small business owners or professionals.\n",
    "2. Promote women-led and minority-led business in social media.\n",
    "3. Support and fund women-led and minority-led businesses.\n",
    "\n",
    "\n"
   ]
  },
  {
   "cell_type": "markdown",
   "metadata": {},
   "source": [
    "Limitations:\n",
    "1. Did not incorporate other surveys from the ASE: Characteristics of Businesses and Characteristics of Business Owners\n",
    "2. The data is only limited to the year of 2014.\n",
    "3. The inclusion criterion for this dataset only limited to top 50 metropolitan areas and non-farm business.\n",
    "4. The research methodology of the project, data is not complete for entrepreneurs’ race."
   ]
  }
 ],
 "metadata": {
  "kernelspec": {
   "display_name": "Python 3",
   "language": "python",
   "name": "python3"
  },
  "language_info": {
   "codemirror_mode": {
    "name": "ipython",
    "version": 3
   },
   "file_extension": ".py",
   "mimetype": "text/x-python",
   "name": "python",
   "nbconvert_exporter": "python",
   "pygments_lexer": "ipython3",
   "version": "3.7.3"
  }
 },
 "nbformat": 4,
 "nbformat_minor": 2
}
